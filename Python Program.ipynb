{
 "cells": [
  {
   "cell_type": "code",
   "execution_count": 1,
   "id": "a5065168",
   "metadata": {},
   "outputs": [
    {
     "name": "stdout",
     "output_type": "stream",
     "text": [
      "Enter a Number:5\n",
      "The given num is Odd\n"
     ]
    }
   ],
   "source": [
    "# write a program to print the given number is Odd or Even.\n",
    "num=int(input(\"Enter a Number:\"))\n",
    "if(num%2==0):\n",
    "    print(\"The given num is Even\")\n",
    "else:\n",
    "    print(\"The given num is Odd\")"
   ]
  },
  {
   "cell_type": "code",
   "execution_count": 2,
   "id": "68ccdec6",
   "metadata": {},
   "outputs": [
    {
     "name": "stdout",
     "output_type": "stream",
     "text": [
      "Enter a Number-2\n",
      "Number is Negative\n"
     ]
    }
   ],
   "source": [
    "#write a program to find the given number is Positive or Negative\n",
    "num=int(input(\"Enter a Number\"))\n",
    "if(num<0):\n",
    "    print(\"Number is Negative\")\n",
    "else:\n",
    "    print(\"Number is Positive\")"
   ]
  },
  {
   "cell_type": "code",
   "execution_count": 3,
   "id": "ee78aa47",
   "metadata": {},
   "outputs": [
    {
     "name": "stdout",
     "output_type": "stream",
     "text": [
      "Enter a Number:454\n",
      "Number is palindrome\n"
     ]
    }
   ],
   "source": [
    "#write a program to check if the given number is palindrome or not.\n",
    "num = int(input(\"Enter a Number:\"))\n",
    "temp = num\n",
    "reverse = 0\n",
    "while temp>0:\n",
    "    remainder=temp%10\n",
    "    reverse=(reverse * 10) + remainder\n",
    "    temp = temp //10\n",
    "if num == reverse:\n",
    "    print(\"Number is palindrome\")\n",
    "else:\n",
    "    print(\"Number is not palindrome\")"
   ]
  },
  {
   "cell_type": "code",
   "execution_count": 4,
   "id": "6392f6ba",
   "metadata": {},
   "outputs": [
    {
     "name": "stdout",
     "output_type": "stream",
     "text": [
      "Enter a Number5\n",
      "Enter a Number4\n",
      "9\n"
     ]
    }
   ],
   "source": [
    "#write a program to find the sum of two number\n",
    "num1=int(input(\"Enter a Number\"))\n",
    "num2=int(input('Enter a Number'))\n",
    "sum=num1+num2\n",
    "print(sum)"
   ]
  },
  {
   "cell_type": "code",
   "execution_count": 5,
   "id": "76ceacf4",
   "metadata": {},
   "outputs": [
    {
     "name": "stdout",
     "output_type": "stream",
     "text": [
      "Enter a Number:5\n",
      "Number is prime\n"
     ]
    }
   ],
   "source": [
    "#write a program to find if the given number is prime or not.\n",
    "num=int(input(\"Enter a Number:\"))\n",
    "flag=False\n",
    "if num>1:\n",
    "    for i in range(2,num):\n",
    "        if(num%i)==0:\n",
    "            flag=True\n",
    "            break\n",
    "if flag:\n",
    "    print(\"Number is not prime\")\n",
    "else:\n",
    "    print(\"Number is prime\")"
   ]
  },
  {
   "cell_type": "code",
   "execution_count": 6,
   "id": "fd5fe232",
   "metadata": {},
   "outputs": [
    {
     "name": "stdout",
     "output_type": "stream",
     "text": [
      "Enter a Number5\n",
      "Enter a Number7\n",
      "7 is max then 5\n"
     ]
    }
   ],
   "source": [
    "#write a program to find a maximum of two numbers.\n",
    "num1=int(input(\"Enter a Number\"))\n",
    "num2=int(input(\"Enter a Number\"))\n",
    "if (num1>num2):\n",
    "    print(num1,\"is max then\",num2)\n",
    "else:\n",
    "    print(num2,\"is max then\",num1)"
   ]
  },
  {
   "cell_type": "code",
   "execution_count": 7,
   "id": "492c5c26",
   "metadata": {},
   "outputs": [
    {
     "name": "stdout",
     "output_type": "stream",
     "text": [
      "Enter a Number7\n",
      "Enter a Number12\n",
      "7 is min then 12\n"
     ]
    }
   ],
   "source": [
    "#write a program to find a minimum of two numbers.\n",
    "num1=int(input(\"Enter a Number\"))\n",
    "num2=int(input(\"Enter a Number\"))\n",
    "if(num1<num2):\n",
    "    print(num1,\"is min then\",num2)\n",
    "else:\n",
    "    print(num2,\"is min then\",num1)"
   ]
  },
  {
   "cell_type": "code",
   "execution_count": 8,
   "id": "fe5774a1",
   "metadata": {},
   "outputs": [
    {
     "name": "stdout",
     "output_type": "stream",
     "text": [
      "Enter a Number5\n",
      "Enter a Number7\n",
      "Enter a Number6\n",
      "7 is max then 5 and 6\n"
     ]
    }
   ],
   "source": [
    "#write a program to find a maximum of three numbers.\n",
    "num1=int(input(\"Enter a Number\"))\n",
    "num2=int(input(\"Enter a Number\"))\n",
    "num3=int(input(\"Enter a Number\"))\n",
    "if(num1>num2 and num1>num3):\n",
    "    print(num1,\"is max then\",num2,\"and\",num3)\n",
    "elif(num2>num1 and num2>num3):\n",
    "    print(num2,\"is max then\",num1,\"and\",num3)\n",
    "elif(num3>num1 and num3>num2):\n",
    "    print(num3,\"is max then\",num1,\"and\",num2)\n",
    "else:\n",
    "    print(\"No choice\")"
   ]
  },
  {
   "cell_type": "code",
   "execution_count": 9,
   "id": "2d8f557c",
   "metadata": {},
   "outputs": [
    {
     "name": "stdout",
     "output_type": "stream",
     "text": [
      "Enter a Number2\n",
      "Enter a Number5\n",
      "Enter a Number6\n",
      "2 is min then 5 and 6\n"
     ]
    }
   ],
   "source": [
    "#write a program to find a minimum of three numbers.\n",
    "num1=int(input(\"Enter a Number\"))\n",
    "num2=int(input(\"Enter a Number\"))\n",
    "num3=int(input(\"Enter a Number\"))\n",
    "if(num1<num2 and num1<num3):\n",
    "    print(num1,\"is min then\",num2,\"and\",num3)\n",
    "elif(num2<num1 and num2<num3):\n",
    "    print(num2,\"is min then\",num1,\"and\",num3)\n",
    "elif(num3<num1 and num3<num2):\n",
    "    print(num3,\"is min then\",num1,\"and\",num2)\n",
    "else:\n",
    "    print(\"No Choice\")"
   ]
  },
  {
   "cell_type": "code",
   "execution_count": 10,
   "id": "85835227",
   "metadata": {},
   "outputs": [
    {
     "name": "stdout",
     "output_type": "stream",
     "text": [
      "Enter a number:6\n",
      "Factorial of 6 is 720\n"
     ]
    }
   ],
   "source": [
    "#write a program to find a factorial of a number\n",
    "num=int(input(\"Enter a number:\"))\n",
    "fact=1\n",
    "for i in range(1,num+1):\n",
    "    fact=fact*i\n",
    "print(\"Factorial of\",num,\"is\",fact)"
   ]
  },
  {
   "cell_type": "code",
   "execution_count": 11,
   "id": "a7f4c079",
   "metadata": {},
   "outputs": [
    {
     "name": "stdout",
     "output_type": "stream",
     "text": [
      "* * * * * \n",
      "* * * * * \n",
      "* * * * * \n",
      "* * * * * \n",
      "* * * * * \n"
     ]
    }
   ],
   "source": [
    "#Star pattern\n",
    "for x in range(1,6):\n",
    "    for y in range(1,6):\n",
    "        print(\"*\",end=\" \")\n",
    "    print()"
   ]
  },
  {
   "cell_type": "code",
   "execution_count": 12,
   "id": "f1dffc34",
   "metadata": {},
   "outputs": [
    {
     "name": "stdout",
     "output_type": "stream",
     "text": [
      "1 1 1 1 1 \n",
      "2 2 2 2 2 \n",
      "3 3 3 3 3 \n",
      "4 4 4 4 4 \n",
      "5 5 5 5 5 \n"
     ]
    }
   ],
   "source": [
    "#Number pattern\n",
    "for x in range(1,6):\n",
    "    for y in range(1,6):\n",
    "        print(x,end=\" \")\n",
    "    print()"
   ]
  },
  {
   "cell_type": "code",
   "execution_count": 13,
   "id": "e5d14608",
   "metadata": {},
   "outputs": [
    {
     "name": "stdout",
     "output_type": "stream",
     "text": [
      "1 2 3 4 5 \n",
      "1 2 3 4 5 \n",
      "1 2 3 4 5 \n",
      "1 2 3 4 5 \n",
      "1 2 3 4 5 \n"
     ]
    }
   ],
   "source": [
    "#Number with increment pattern\n",
    "for x in range(1,6):\n",
    "    for y in range(1,6):\n",
    "        print(y,end=\" \")\n",
    "    print()"
   ]
  },
  {
   "cell_type": "code",
   "execution_count": 14,
   "id": "eb0dd9d1",
   "metadata": {},
   "outputs": [
    {
     "name": "stdout",
     "output_type": "stream",
     "text": [
      "5 5 5 5 5 \n",
      "4 4 4 4 4 \n",
      "3 3 3 3 3 \n",
      "2 2 2 2 2 \n",
      "1 1 1 1 1 \n"
     ]
    }
   ],
   "source": [
    "#Reverse pattern\n",
    "for x in range(5,0,-1):\n",
    "    for y in range(5,0,-1):\n",
    "        print(x,end=\" \")\n",
    "    print()"
   ]
  },
  {
   "cell_type": "code",
   "execution_count": 15,
   "id": "d15c919f",
   "metadata": {},
   "outputs": [
    {
     "name": "stdout",
     "output_type": "stream",
     "text": [
      "1 2 3 4 5 \n",
      "6 7 8 9 10 \n",
      "11 12 13 14 15 \n",
      "16 17 18 19 20 \n",
      "21 22 23 24 25 \n"
     ]
    }
   ],
   "source": [
    "#Number series pattern\n",
    "n=5\n",
    "k=1\n",
    "for x in range(1,n+1):\n",
    "    for y in range(1,n+1):\n",
    "        print(format(k),end=\" \")\n",
    "        k+=1\n",
    "    print()"
   ]
  },
  {
   "cell_type": "code",
   "execution_count": 16,
   "id": "d126c4d0",
   "metadata": {},
   "outputs": [
    {
     "name": "stdout",
     "output_type": "stream",
     "text": [
      "1 3 5 7 9 \n",
      "11 13 15 17 19 \n",
      "21 23 25 27 29 \n",
      "31 33 35 37 39 \n",
      "41 43 45 47 49 \n"
     ]
    }
   ],
   "source": [
    "#Odd Number pattern\n",
    "n=5\n",
    "p=1\n",
    "for x in range(1,n+1):\n",
    "    for y in range(1,n+1):\n",
    "        print(format(p),end=\" \")\n",
    "        p+=2\n",
    "    print()"
   ]
  },
  {
   "cell_type": "code",
   "execution_count": 17,
   "id": "1c40e0db",
   "metadata": {},
   "outputs": [
    {
     "name": "stdout",
     "output_type": "stream",
     "text": [
      "2 4 6 8 10 \n",
      "12 14 16 18 20 \n",
      "22 24 26 28 30 \n",
      "32 34 36 38 40 \n",
      "42 44 46 48 50 \n"
     ]
    }
   ],
   "source": [
    "#Even Number pattern\n",
    "n=5\n",
    "p=2\n",
    "for x in range(1,n+1):\n",
    "    for y in range(1,n+1):\n",
    "        print(format(p),end=\" \")\n",
    "        p+=2\n",
    "    print()"
   ]
  },
  {
   "cell_type": "code",
   "execution_count": 18,
   "id": "d7434d84",
   "metadata": {},
   "outputs": [
    {
     "name": "stdout",
     "output_type": "stream",
     "text": [
      "1 1 2 1 3 1 \n",
      "1 2 2 2 3 2 \n",
      "1 3 2 3 3 3 \n",
      "1 4 2 4 3 4 \n",
      "1 5 2 5 3 5 \n"
     ]
    }
   ],
   "source": [
    "#add number serieswise pattern\n",
    "for x in range(1,6):\n",
    "    for y in range(1,4):\n",
    "        print(\"{} {}\".format(y,x),end=\" \")\n",
    "    print()"
   ]
  },
  {
   "cell_type": "code",
   "execution_count": 19,
   "id": "5811f869",
   "metadata": {},
   "outputs": [
    {
     "name": "stdout",
     "output_type": "stream",
     "text": [
      "1 6 11 16 21 \n",
      "2 7 12 17 22 \n",
      "3 8 13 18 23 \n",
      "4 9 14 19 24 \n",
      "5 10 15 20 25 \n"
     ]
    }
   ],
   "source": [
    "#Sequence series\n",
    "n=5\n",
    "for x in range(1,n+1):\n",
    "    p=x\n",
    "    for y in range(1,n+1):\n",
    "        print(format(p),end=\" \")\n",
    "        p+=n\n",
    "    print()"
   ]
  },
  {
   "cell_type": "code",
   "execution_count": 20,
   "id": "41153559",
   "metadata": {},
   "outputs": [
    {
     "name": "stdout",
     "output_type": "stream",
     "text": [
      "5 10 15 20 25 \n",
      "4 9 14 19 24 \n",
      "3 8 13 18 23 \n",
      "2 7 12 17 22 \n",
      "1 6 11 16 21 \n"
     ]
    }
   ],
   "source": [
    "#reverse sequence pattern\n",
    "n=5\n",
    "for x in range(1,n+1):\n",
    "    p=n-x+1\n",
    "    for y in range(1,n+1):\n",
    "        print(format(p),end=\" \")\n",
    "        p+=n\n",
    "    print()"
   ]
  },
  {
   "cell_type": "code",
   "execution_count": 21,
   "id": "c1b1ecb1",
   "metadata": {},
   "outputs": [
    {
     "name": "stdout",
     "output_type": "stream",
     "text": [
      "0 1 0 1 0 \n",
      "1 0 1 0 1 \n",
      "0 1 0 1 0 \n",
      "1 0 1 0 1 \n",
      "0 1 0 1 0 \n"
     ]
    }
   ],
   "source": [
    "# 0 and 1 pattern\n",
    "n=5\n",
    "for x in range(1,n+1):\n",
    "    for y in range(1,n+1):\n",
    "        print(str((x+y)%2)+\"\",end=\" \")\n",
    "    print()"
   ]
  },
  {
   "cell_type": "code",
   "execution_count": 22,
   "id": "51473146",
   "metadata": {},
   "outputs": [
    {
     "name": "stdout",
     "output_type": "stream",
     "text": [
      "A A A A A \n",
      "B B B B B \n",
      "C C C C C \n",
      "D D D D D \n",
      "E E E E E \n"
     ]
    }
   ],
   "source": [
    "#Capital ABCDE pattern\n",
    "for x in range(65,70):\n",
    "    for y in range(1,6):\n",
    "        print(chr(x),end=\" \")\n",
    "    print()"
   ]
  },
  {
   "cell_type": "code",
   "execution_count": 23,
   "id": "8256f1f1",
   "metadata": {},
   "outputs": [
    {
     "name": "stdout",
     "output_type": "stream",
     "text": [
      "A A A A A \n",
      "B B B B B \n",
      "C C C C C \n",
      "D D D D D \n",
      "E E E E E \n"
     ]
    }
   ],
   "source": [
    "#Captial ABCDE pattern\n",
    "for x in 'ABCDE':\n",
    "    for y in 'ABCDE':\n",
    "        print(x,end=\" \")\n",
    "    print()"
   ]
  },
  {
   "cell_type": "code",
   "execution_count": 24,
   "id": "18e1fc3a",
   "metadata": {},
   "outputs": [
    {
     "name": "stdout",
     "output_type": "stream",
     "text": [
      "* \n",
      "* * \n",
      "* * * \n",
      "* * * * \n",
      "* * * * * \n"
     ]
    }
   ],
   "source": [
    "#Star pattern\n",
    "for x in range(1,6):\n",
    "    for y in range(1,x+1):\n",
    "        print(\"*\",end=\" \")\n",
    "    print()"
   ]
  },
  {
   "cell_type": "code",
   "execution_count": 25,
   "id": "a7726fa8",
   "metadata": {},
   "outputs": [
    {
     "name": "stdout",
     "output_type": "stream",
     "text": [
      "2 \n",
      "4 6 \n",
      "8 10 12 \n",
      "14 16 18 20 \n",
      "22 24 26 28 30 \n"
     ]
    }
   ],
   "source": [
    "#Even triangle pattern\n",
    "p=2\n",
    "for x in range(5,0,-1):\n",
    "    for y in range(6,x,-1):\n",
    "        print(format(p),end=\" \")\n",
    "        p+=2\n",
    "    print()"
   ]
  },
  {
   "cell_type": "code",
   "execution_count": 26,
   "id": "4cceea02",
   "metadata": {},
   "outputs": [
    {
     "name": "stdout",
     "output_type": "stream",
     "text": [
      "1 \n",
      "2 3 \n",
      "4 5 6 \n",
      "7 8 9 10 \n",
      "11 12 13 14 15 \n"
     ]
    }
   ],
   "source": [
    "#sequence triangle pattern\n",
    "p=1\n",
    "for x in range(5,0,-1):\n",
    "    for y in range(6,x,-1):\n",
    "        print(format(p),end=\" \")\n",
    "        p+=1\n",
    "    print()"
   ]
  },
  {
   "cell_type": "code",
   "execution_count": 27,
   "id": "4e017fd9",
   "metadata": {},
   "outputs": [
    {
     "name": "stdout",
     "output_type": "stream",
     "text": [
      "1 \n",
      "2 4 \n",
      "3 6 9 \n",
      "4 8 12 16 \n",
      "5 10 15 20 25 \n"
     ]
    }
   ],
   "source": [
    "#sequence of table\n",
    "for x in range(1,6):\n",
    "    for y in range(1,x+1):\n",
    "        print(format(x*y),end=\" \")\n",
    "    print()"
   ]
  },
  {
   "cell_type": "code",
   "execution_count": 28,
   "id": "9725c530",
   "metadata": {},
   "outputs": [
    {
     "name": "stdout",
     "output_type": "stream",
     "text": [
      "1 \n",
      "1 2 \n",
      "3 5 8 \n",
      "13 21 34 55 \n",
      "89 144 233 377 610 \n"
     ]
    }
   ],
   "source": [
    "#Fibonacci series pattern\n",
    "n=5\n",
    "n1=0\n",
    "n2=1\n",
    "r=n1+n2\n",
    "for x in range(0,n):\n",
    "    for y in range(0,x+1):\n",
    "        print(str(r)+\"\",end=\" \")\n",
    "        r=n1+n2\n",
    "        n1=n2\n",
    "        n2=r\n",
    "    print()"
   ]
  },
  {
   "cell_type": "code",
   "execution_count": 29,
   "id": "a258a610",
   "metadata": {},
   "outputs": [
    {
     "name": "stdout",
     "output_type": "stream",
     "text": [
      "A \n",
      "B B \n",
      "C C C \n",
      "D D D D \n",
      "E E E E E \n"
     ]
    }
   ],
   "source": [
    "#A,B pattern\n",
    "for x in range(65,70):\n",
    "    for y in range(65,x+1):\n",
    "        print(chr(x),end=\" \")\n",
    "    print()"
   ]
  },
  {
   "cell_type": "code",
   "execution_count": 30,
   "id": "b44c37a5",
   "metadata": {},
   "outputs": [
    {
     "name": "stdout",
     "output_type": "stream",
     "text": [
      "* * * * * \n",
      "* * * * \n",
      "* * * \n",
      "* * \n",
      "* \n"
     ]
    }
   ],
   "source": [
    "#Reverse star pattern\n",
    "for x in range(1,6):\n",
    "    for y in range(6,x,-1):\n",
    "        print(\"*\",end=\" \")\n",
    "    print()"
   ]
  },
  {
   "cell_type": "code",
   "execution_count": 31,
   "id": "0f7c0c10",
   "metadata": {},
   "outputs": [
    {
     "name": "stdout",
     "output_type": "stream",
     "text": [
      "  A B C D E F G H I \n",
      "    A B C D E F G \n",
      "      A B C D E \n",
      "        A B C \n"
     ]
    }
   ],
   "source": [
    "#ABCD reverse pattern\n",
    "decr=9\n",
    "for x in range(4,0,-1):\n",
    "    for y in range(x,5):\n",
    "        print(\" \",end=\" \")\n",
    "    for z in range(1,decr+1):\n",
    "        print(chr(z+64),end=\" \")\n",
    "    decr-=2\n",
    "    print()"
   ]
  },
  {
   "cell_type": "code",
   "execution_count": null,
   "id": "62fddafe",
   "metadata": {},
   "outputs": [],
   "source": []
  }
 ],
 "metadata": {
  "kernelspec": {
   "display_name": "Python 3 (ipykernel)",
   "language": "python",
   "name": "python3"
  },
  "language_info": {
   "codemirror_mode": {
    "name": "ipython",
    "version": 3
   },
   "file_extension": ".py",
   "mimetype": "text/x-python",
   "name": "python",
   "nbconvert_exporter": "python",
   "pygments_lexer": "ipython3",
   "version": "3.11.5"
  }
 },
 "nbformat": 4,
 "nbformat_minor": 5
}
